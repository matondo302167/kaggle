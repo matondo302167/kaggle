{
 "cells": [
  {
   "attachments": {},
   "cell_type": "markdown",
   "metadata": {},
   "source": [
    "# DESCRIZIONE DI METODO DI JACOBI\n",
    "\n",
    "L'algoritmo di Gauss–Newton è un metodo iterativo per risolvere problemi di minimi quadrati e regressioni non lineari. È una versione modificata del metodo di Newton per trovare un minimo di una funzione. Diversamente da quest'ultimo, l'algoritmo di Gauss–Newton può essere utilizzato solo per minimizzare una somma di funzioni al quadrato, ma possiede il vantaggio che le derivate seconde, spesso faticose da calcolare, non sono richieste. I problemi di minimi quadrati non lineari compaiono, ad esempio, nella regressione non lineare, in cui si cercano i parametri tali che il modello sia in buono accordo con le osservazioni disponibili. Il nome del metodo deriva dai matematici Carl Friedrich Gauss e Isaac Newton.\n",
    "\n"
   ]
  },
  {
   "attachments": {},
   "cell_type": "markdown",
   "metadata": {},
   "source": [
    "Date $m$ funzioni  ${\\boldsymbol {r}}=(r_{1},\\ldots ,r_{m})$ (spesso chiamati residui) di $n$ variabili ${\\boldsymbol {\\beta }}=(\\beta _{1},\\ldots ,\\beta _{n})$, con ${m\\geq n}$, l'algoritmo di Gauss–Newton trova iterativamente i valori delle variabili in modo da minimizzare la seguente somma di quadrat"
   ]
  },
  {
   "attachments": {},
   "cell_type": "markdown",
   "metadata": {},
   "source": [
    "${S({\\boldsymbol {\\beta }})=\\sum _{i=1}^{m}r_{i}^{2}({\\boldsymbol {\\beta }})}$.\n",
    "\n",
    "Iniziando con ${\\boldsymbol {\\beta }}^{(0)}$ come stima iniziale per il minimo, il metodo esegue iterativamente\n",
    "\n",
    "${{\\boldsymbol {\\beta }}^{(s+1)}={\\boldsymbol {\\beta }}^{(s)}-\\left(\\mathbf {J_{r}} ^{\\mathsf {T}}\\mathbf {J_{r}} \\right)^{-1}\\mathbf {J_{r}} ^{\\mathsf {T}}\\mathbf {r} ({\\boldsymbol {\\beta }}^{(s)}),}$ dove, se ${\\boldsymbol {r}}$ e ${\\boldsymbol  \\beta }$ sono vettori colonna, gli elementi della matrice jacobiana sono"
   ]
  },
  {
   "cell_type": "code",
   "execution_count": null,
   "metadata": {},
   "outputs": [],
   "source": [
    "import math\n",
    "import numpy as np\n",
    "import matplotlib.pyplot as plt\n",
    "import matplotlib.animation as animation\n",
    "from IPython import display\n",
    "import seaborn as sns\n",
    "from matplotlib.lines import Line2D"
   ]
  }
 ],
 "metadata": {
  "kernelspec": {
   "display_name": "Python 3",
   "language": "python",
   "name": "python3"
  },
  "language_info": {
   "codemirror_mode": {
    "name": "ipython",
    "version": 3
   },
   "file_extension": ".py",
   "mimetype": "text/x-python",
   "name": "python",
   "nbconvert_exporter": "python",
   "pygments_lexer": "ipython3",
   "version": "3.9.7"
  },
  "orig_nbformat": 4,
  "vscode": {
   "interpreter": {
    "hash": "aee8b7b246df8f9039afb4144a1f6fd8d2ca17a180786b69acc140d282b71a49"
   }
  }
 },
 "nbformat": 4,
 "nbformat_minor": 2
}
